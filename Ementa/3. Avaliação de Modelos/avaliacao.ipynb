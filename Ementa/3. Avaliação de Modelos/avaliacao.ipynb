{
 "cells": [
  {
   "cell_type": "markdown",
   "id": "2dbc31e1",
   "metadata": {},
   "source": [
    "# Métricas de avaliação de modelo\n"
   ]
  },
  {
   "cell_type": "markdown",
   "id": "9ccf954c",
   "metadata": {},
   "source": [
    "| **Métrica**  | **Tipo de Problema** | **Interpretação** | **Quando Usar** |\n",
    "|-------------|----------------|----------------|----------------|\n",
    "| **AUC-ROC** | Classificação | Quanto maior, melhor (0.5 a 1). | Comparar modelos binários, avaliar capacidade de discriminação. |\n",
    "| **KS** | Classificação | Diferença entre distribuições (0 a 1). | Validar modelos de crédito/risco, selecionar melhores cortes. |\n",
    "| **Gini** | Classificação | 2 × AUC - 1 (0 a 1). | Alternativa à AUC em finanças/seguros. |\n",
    "| **Precision** | Classificação | % de positivos corretos. | Evitar falsos positivos (ex.: spam médico). |\n",
    "| **Recall** | Classificação | % de positivos detectados. | Evitar falsos negativos (ex.: fraude, câncer). |\n",
    "| **F1-Score** | Classificação | Balanceia Precision e Recall. | Dados desbalanceados ou custo alto de FP/FN. |\n",
    "| **RMSE** | Regressão | Erro médio quadrático (quanto menor, melhor). | Quando grandes erros são críticos (ex.: previsão de preços). |\n",
    "| **MAE** | Regressão | Erro médio absoluto (menos sensível a outliers). | Quando erros têm peso linear (ex.: demanda). |\n",
    "| **R²** | Regressão | % da variância explicada (-∞ a 1). | Entender poder explicativo do modelo. |"
   ]
  },
  {
   "cell_type": "markdown",
   "id": "71fcc15e",
   "metadata": {},
   "source": [
    "| **Métrica** | **O que é?**                                                                 | **Como calcular?**                                                                 | **Quando usar?**                                                                 | **Interpretação**                                                                 |\n",
    "|-------------|------------------------------------------------------------------------------|-----------------------------------------------------------------------------------|---------------------------------------------------------------------------------|---------------------------------------------------------------------------------|\n",
    "| **KS**      | Mede a discriminação entre classes (binária).                                | $KS = \\max \\left( \\| \\text{CDF}_{\\text{Positivo}}(x) - \\text{CDF}_{\\text{Negativo}}(x) \\| \\right)$ | Modelos de crédito, risco ou marketing.                                         | $0 \\leq KS \\leq 1$. **>0.3** (aceitável), **>0.5** (bom), **>0.7** (excelente).               |\n",
    "| **Gini**    | Mede a desigualdade nas previsões (relacionado à AUC).                      | $\\text{Gini} = 2 \\times \\text{AUC} - 1$                                         | Modelos de risco, seguros ou competições de ML.                                 | $0 \\leq \\text{Gini} \\leq 1$. **0** (aleatório), **1** (perfeito). **>0.4** (bom).                      |\n",
    "| **AUC**     | Área sob a curva ROC (discriminação binária).                                | Área entre $TPR = \\frac{TP}{TP + FN}$ e $FPR = \\frac{FP}{FP + TN}$.          | Classes desbalanceadas ou threshold desconhecido.                               | $0.5 \\leq \\text{AUC} \\leq 1$. **0.5** (aleatório), **>0.7** (útil), **>0.9** (excelente).            |\n",
    "| **RMSE**    | Raiz do erro quadrático médio (penaliza erros grandes).                     | $\\text{RMSE} = \\sqrt{\\frac{1}{n} \\sum_{i=1}^{n} (y_i - \\hat{y}_i)^2}$          | Quando erros grandes são críticos (ex.: previsão de preços).                    | Quanto menor, melhor. Comparar com escala dos dados.                            |\n",
    "| **MAE**     | Erro absoluto médio (menos sensível a outliers).                            | $\\text{MAE} = \\frac{1}{n} \\sum_{i=1}^{n} \\| y_i - \\hat{y}_i \\|$               | Quando outliers não devem ser penalizados excessivamente.                       | Quanto menor, melhor. Mesma unidade dos dados.                                 |\n",
    "| **F1**      | Média harmônica entre Precision e Recall.                                   | $\\text{F1} = 2 \\times \\frac{\\text{Precision} \\times \\text{Recall}}{\\text{Precision} + \\text{Recall}}$ | Classes desbalanceadas (ex.: detecção de fraudes).                              | $0 \\leq \\text{F1} \\leq 1$. **1** (perfeito), **0** (pior). **>0.7** (aceitável).                     |\n",
    "| **Recall**  | Fração de positivos reais detectados (Sensibilidade).                       | $\\text{Recall} = \\frac{TP}{TP + FN}$                                           | Quando falsos negativos são graves (ex.: diagnóstico médico).                   | **Alto** = captura mais eventos, mas pode ter falsos positivos.                |\n",
    "| **Precision** | Fração de positivos previstos corretos.                                   | $\\text{Precision} = \\frac{TP}{TP + FP}$                                        | Quando falsos positivos são críticos (ex.: spam detection).                      | **Alto** = menos falsos positivos, mas pode perder eventos reais.              |\n",
    "| **R²**      | Proporção da variância explicada pelo modelo (regressão).                   | $R^2 = 1 - \\frac{\\sum (y_i - \\hat{y}_i)^2}{\\sum (y_i - \\bar{y})^2}$           | Comparação de modelos de regressão linear.                                      | $-\\infty \\leq R^2 \\leq 1$. **1** (perfeito), **0** (inútil), **<0** (pior que a média simples).           |"
   ]
  },
  {
   "cell_type": "markdown",
   "id": "b574d8c1",
   "metadata": {},
   "source": [
    "## AUC-ROC\n",
    "\n",
    "Mede a capacidade do modelo de distinguir entre classes."
   ]
  },
  {
   "cell_type": "code",
   "execution_count": 1,
   "id": "7ad4db48",
   "metadata": {},
   "outputs": [
    {
     "name": "stderr",
     "output_type": "stream",
     "text": [
      "c:\\Users\\Lucas\\anaconda3\\lib\\site-packages\\scipy\\__init__.py:155: UserWarning: A NumPy version >=1.18.5 and <1.25.0 is required for this version of SciPy (detected version 1.26.4\n",
      "  warnings.warn(f\"A NumPy version >={np_minversion} and <{np_maxversion}\"\n"
     ]
    },
    {
     "data": {
      "image/png": "[encoded data removed]",
      "text/plain": [
       "<Figure size 640x480 with 1 Axes>"
      ]
     },
     "metadata": {},
     "output_type": "display_data"
    }
   ],
   "source": [
    "import matplotlib.pyplot as plt\n",
    "from sklearn.metrics import roc_curve, auc\n",
    "\n",
    "# Dados de exemplo\n",
    "y_true = [1, 0, 1, 0]\n",
    "y_pred_proba = [0.9, 0.4, 0.6, 0.3]\n",
    "\n",
    "# Calcular FPR, TPR e thresholds\n",
    "fpr, tpr, thresholds = roc_curve(y_true, y_pred_proba)\n",
    "roc_auc = auc(fpr, tpr)\n",
    "\n",
    "# Plotar a curva ROC\n",
    "plt.figure()\n",
    "plt.plot(fpr, tpr, color='blue', label=f'ROC Curve (AUC = {roc_auc:.2f})')\n",
    "plt.plot([0, 1], [0, 1], 'k--')  # Linha de referência (aleatório)\n",
    "plt.xlabel('False Positive Rate (FPR)')\n",
    "plt.ylabel('True Positive Rate (TPR)')\n",
    "plt.title('Receiver Operating Characteristic (ROC) Curve')\n",
    "plt.legend()\n",
    "plt.show()"
   ]
  },
  {
   "cell_type": "markdown",
   "id": "7f729671",
   "metadata": {},
   "source": [
    "## KS\n",
    "\n",
    "O KS mede a distância máxima entre as distribuições cumulativas das classes positiva e negativa. É comum em modelos de crédito.\n"
   ]
  },
  {
   "cell_type": "code",
   "execution_count": 1,
   "id": "88770d6a",
   "metadata": {},
   "outputs": [
    {
     "name": "stderr",
     "output_type": "stream",
     "text": [
      "c:\\Users\\Lucas\\anaconda3\\lib\\site-packages\\scipy\\__init__.py:155: UserWarning: A NumPy version >=1.18.5 and <1.25.0 is required for this version of SciPy (detected version 1.26.4\n",
      "  warnings.warn(f\"A NumPy version >={np_minversion} and <{np_maxversion}\"\n"
     ]
    },
    {
     "name": "stdout",
     "output_type": "stream",
     "text": [
      "KS Statistic: 0.7500\n"
     ]
    }
   ],
   "source": [
    "import numpy as np\n",
    "from scipy.stats import ks_2samp\n",
    "\n",
    "# Exemplo: Probabilidades previstas (score do modelo) e labels reais\n",
    "y_true = np.array([0, 0, 1, 1, 1, 0, 1, 0])\n",
    "y_scores = np.array([0.1, 0.4, 0.35, 0.8, 0.65, 0.2, 0.9, 0.3])\n",
    "\n",
    "# Separa os scores para classes 0 e 1\n",
    "score_classe0 = y_scores[y_true == 0]\n",
    "score_classe1 = y_scores[y_true == 1]\n",
    "\n",
    "# Calcula a estatística KS\n",
    "ks_statistic, _ = ks_2samp(score_classe1, score_classe0)\n",
    "print(f\"KS Statistic: {ks_statistic:.4f}\")"
   ]
  },
  {
   "cell_type": "markdown",
   "id": "94565b39",
   "metadata": {},
   "source": [
    "## Gini\n",
    "\n",
    "O coeficiente de Gini é derivado da AUC e mede a desigualdade entre as classes."
   ]
  },
  {
   "cell_type": "code",
   "execution_count": 2,
   "id": "f9f8f926",
   "metadata": {},
   "outputs": [
    {
     "name": "stdout",
     "output_type": "stream",
     "text": [
      "Coeficiente de Gini: 0.8750\n"
     ]
    }
   ],
   "source": [
    "from sklearn.metrics import roc_auc_score\n",
    "\n",
    "# Calcula AUC primeiro\n",
    "auc = roc_auc_score(y_true, y_scores)\n",
    "gini = 2 * auc - 1\n",
    "print(f\"Coeficiente de Gini: {gini:.4f}\")"
   ]
  },
  {
   "cell_type": "markdown",
   "id": "c15ee4db",
   "metadata": {},
   "source": [
    "## RMSE\n",
    "\n",
    "Usado em problemas de regressão para medir erros de previsão."
   ]
  },
  {
   "cell_type": "code",
   "execution_count": 3,
   "id": "15ca7f63",
   "metadata": {},
   "outputs": [
    {
     "name": "stdout",
     "output_type": "stream",
     "text": [
      "RMSE: 0.6124\n"
     ]
    }
   ],
   "source": [
    "from sklearn.metrics import mean_squared_error\n",
    "\n",
    "y_true_reg = np.array([3, -0.5, 2, 7])\n",
    "y_pred_reg = np.array([2.5, 0.0, 2, 8])\n",
    "\n",
    "rmse = np.sqrt(mean_squared_error(y_true_reg, y_pred_reg))\n",
    "print(f\"RMSE: {rmse:.4f}\")"
   ]
  },
  {
   "cell_type": "markdown",
   "id": "6a8b566f",
   "metadata": {},
   "source": [
    "## MAE\n",
    "\n",
    "Outra métrica para regressão, menos sensível a outliers que o RMSE."
   ]
  },
  {
   "cell_type": "code",
   "execution_count": 4,
   "id": "4138ddc2",
   "metadata": {},
   "outputs": [
    {
     "name": "stdout",
     "output_type": "stream",
     "text": [
      "MAE: 0.5000\n"
     ]
    }
   ],
   "source": [
    "from sklearn.metrics import mean_absolute_error\n",
    "\n",
    "mae = mean_absolute_error(y_true_reg, y_pred_reg)\n",
    "print(f\"MAE: {mae:.4f}\")"
   ]
  },
  {
   "cell_type": "markdown",
   "id": "ce421d62",
   "metadata": {},
   "source": [
    "## F1-Score\n",
    "\n",
    "Média harmônica entre Precision e Recall (para problemas de classificação)."
   ]
  },
  {
   "cell_type": "code",
   "execution_count": 5,
   "id": "73d01922",
   "metadata": {},
   "outputs": [
    {
     "name": "stdout",
     "output_type": "stream",
     "text": [
      "F1-Score: 0.8000\n"
     ]
    }
   ],
   "source": [
    "from sklearn.metrics import f1_score\n",
    "\n",
    "# Labels binários e previsões\n",
    "y_true_clf = np.array([0, 1, 1, 0, 1])\n",
    "y_pred_clf = np.array([0, 1, 0, 0, 1])\n",
    "\n",
    "f1 = f1_score(y_true_clf, y_pred_clf)\n",
    "print(f\"F1-Score: {f1:.4f}\")"
   ]
  },
  {
   "cell_type": "markdown",
   "id": "dc075d1b",
   "metadata": {},
   "source": [
    "# Recall\n",
    "\n",
    "\"Dos positivos reais, quantos foram identificados?\"\n",
    "\n",
    "É útil para quando falsos negativos são críticos (tipo diagnóstico médico)"
   ]
  },
  {
   "cell_type": "code",
   "execution_count": 1,
   "id": "9ac33fdc",
   "metadata": {},
   "outputs": [
    {
     "name": "stderr",
     "output_type": "stream",
     "text": [
      "c:\\Users\\Lucas\\anaconda3\\lib\\site-packages\\scipy\\__init__.py:155: UserWarning: A NumPy version >=1.18.5 and <1.25.0 is required for this version of SciPy (detected version 1.26.4\n",
      "  warnings.warn(f\"A NumPy version >={np_minversion} and <{np_maxversion}\"\n"
     ]
    },
    {
     "name": "stdout",
     "output_type": "stream",
     "text": [
      "Recall: 0.75\n"
     ]
    }
   ],
   "source": [
    "from sklearn.metrics import recall_score\n",
    "\n",
    "y_true = [1, 0, 1, 1, 0, 1]\n",
    "y_pred = [1, 0, 0, 1, 0, 1]\n",
    "\n",
    "recall = recall_score(y_true, y_pred)\n",
    "print(f\"Recall: {recall:.2f}\")  # 0.75 (3/4 positivos identificados)"
   ]
  },
  {
   "cell_type": "markdown",
   "id": "a479ec84",
   "metadata": {},
   "source": [
    "# Precision\n",
    "\n",
    "\"Dos identificados como positivos, quantos eram realmente positivos?\"\n",
    "\n",
    "É útil para quando falsos positivos são problemáticos (detecção de spam)"
   ]
  },
  {
   "cell_type": "code",
   "execution_count": 2,
   "id": "3210c7dd",
   "metadata": {},
   "outputs": [
    {
     "name": "stdout",
     "output_type": "stream",
     "text": [
      "Precision: 1.00\n"
     ]
    }
   ],
   "source": [
    "from sklearn.metrics import precision_score\n",
    "\n",
    "y_true = [1, 0, 1, 1, 0, 1]\n",
    "y_pred = [1, 0, 0, 1, 0, 1]\n",
    "\n",
    "precision = precision_score(y_true, y_pred)\n",
    "print(f\"Precision: {precision:.2f}\")  # 1.0 (todos os preditos como 1 eram 1)"
   ]
  },
  {
   "cell_type": "markdown",
   "id": "be73f4b4",
   "metadata": {},
   "source": [
    "# R2\n",
    "\"Quanta variação da variável dependente é explicada pelo modelo?\""
   ]
  },
  {
   "cell_type": "code",
   "execution_count": 3,
   "id": "36a8176f",
   "metadata": {},
   "outputs": [
    {
     "name": "stdout",
     "output_type": "stream",
     "text": [
      "R² Score: 0.95\n"
     ]
    }
   ],
   "source": [
    "from sklearn.metrics import r2_score\n",
    "import numpy as np\n",
    "\n",
    "# Dados de exemplo para regressão\n",
    "y_true = [3, -0.5, 2, 7]\n",
    "y_pred = [2.5, 0.0, 2, 8]\n",
    "\n",
    "r2 = r2_score(y_true, y_pred)\n",
    "print(f\"R² Score: {r2:.2f}\")  # 0.95 (95% da variação é explicada)"
   ]
  }
 ],
 "metadata": {
  "kernelspec": {
   "display_name": "base",
   "language": "python",
   "name": "python3"
  },
  "language_info": {
   "codemirror_mode": {
    "name": "ipython",
    "version": 3
   },
   "file_extension": ".py",
   "mimetype": "text/x-python",
   "name": "python",
   "nbconvert_exporter": "python",
   "pygments_lexer": "ipython3",
   "version": "3.9.13"
  }
 },
 "nbformat": 4,
 "nbformat_minor": 5
}
