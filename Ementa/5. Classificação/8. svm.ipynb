{
 "cells": [
  {
   "cell_type": "markdown",
   "id": "ca7619da",
   "metadata": {},
   "source": [
    "# Maximal Margin Classifier"
   ]
  },
  {
   "cell_type": "markdown",
   "id": "8ed7053f",
   "metadata": {},
   "source": [
    "## O que é um hiperplano?"
   ]
  },
  {
   "cell_type": "markdown",
   "id": "4cfde45d",
   "metadata": {},
   "source": [
    "Em um espaçõ **p-dimensional** um hiperplano é um subespaço de dimensão $p-1$.\n",
    "\n",
    "Em duas dimensões, um hiperplano é definido pela equação:\n",
    "\n",
    "$\\beta_0 + \\beta_1 X_1 + \\beta_2 X_2 = 0$"
   ]
  },
  {
   "cell_type": "markdown",
   "id": "c7efa83d",
   "metadata": {},
   "source": []
  }
 ],
 "metadata": {
  "kernelspec": {
   "display_name": "base",
   "language": "python",
   "name": "python3"
  },
  "language_info": {
   "name": "python",
   "version": "3.9.13"
  }
 },
 "nbformat": 4,
 "nbformat_minor": 5
}
