{
 "cells": [
  {
   "cell_type": "markdown",
   "id": "6717e8fe",
   "metadata": {},
   "source": [
    "# 🧠 KNN (K-Nearest Neighbors)\n",
    "\n",
    "O **KNN (K-Nearest Neighbors)** é um dos algoritmos de aprendizado supervisionado mais simples e intuitivos, utilizado tanto para **classificação** quanto para **regressão**.\n",
    "\n",
    "---\n",
    "\n",
    "## 🧩 Ideia Principal\n",
    "\n",
    "A ideia central do KNN é classificar um ponto com base em **seus vizinhos mais próximos** no espaço de características.\n",
    "\n",
    "1. **Escolhe-se um número \\( K \\)** — o número de vizinhos.\n",
    "2. **Calcula-se a distância** entre o ponto novo e todos os pontos de treinamento (geralmente usa-se a **distância Euclidiana**).\n",
    "3. **Selecionam-se os \\( K \\)** pontos mais próximos.\n",
    "4. - **Para classificação**: o ponto é atribuído à classe mais comum entre os vizinhos.  \n",
    "   - **Para regressão**: a saída é a média (ou mediana) dos valores dos vizinhos.\n",
    "\n",
    "---\n",
    "\n",
    "## 🧮 Fórmula da Distância Euclidiana\n",
    "\n",
    "Para dois pontos $( x = (x_1, x_2, ..., x_n) )$ e $( y = (y_1, y_2, ..., y_n) )$:\n",
    "\n",
    "\n",
    "$$d(x, y) = \\sqrt{\\sum_{i=1}^{n} (x_i - y_i)^2}$$\n",
    "\n",
    "---\n",
    "\n",
    "## ⚙️ Hiperparâmetros Importantes\n",
    "\n",
    "- **K**: número de vizinhos considerados.  \n",
    "  - Valores pequenos → modelo mais sensível a ruído (overfitting).  \n",
    "  - Valores grandes → modelo mais suave (underfitting).\n",
    "- **Métrica de distância**: Euclidiana, Manhattan, Minkowski etc.\n",
    "- **Peso dos vizinhos**:  \n",
    "  - `\"uniform\"` — todos os vizinhos têm o mesmo peso.  \n",
    "  - `\"distance\"` — vizinhos mais próximos têm mais peso.\n",
    "\n",
    "---\n"
   ]
  },
  {
   "cell_type": "code",
   "execution_count": 1,
   "id": "a08f3d56",
   "metadata": {},
   "outputs": [
    {
     "name": "stderr",
     "output_type": "stream",
     "text": [
      "c:\\Users\\Lucas\\anaconda3\\lib\\site-packages\\scipy\\__init__.py:155: UserWarning: A NumPy version >=1.18.5 and <1.25.0 is required for this version of SciPy (detected version 1.26.4\n",
      "  warnings.warn(f\"A NumPy version >={np_minversion} and <{np_maxversion}\"\n"
     ]
    },
    {
     "name": "stdout",
     "output_type": "stream",
     "text": [
      "Acurácia: 1.0\n",
      "\n",
      "Relatório de Classificação:\n",
      "               precision    recall  f1-score   support\n",
      "\n",
      "           0       1.00      1.00      1.00        10\n",
      "           1       1.00      1.00      1.00         9\n",
      "           2       1.00      1.00      1.00        11\n",
      "\n",
      "    accuracy                           1.00        30\n",
      "   macro avg       1.00      1.00      1.00        30\n",
      "weighted avg       1.00      1.00      1.00        30\n",
      "\n"
     ]
    }
   ],
   "source": [
    "from sklearn.datasets import load_iris\n",
    "from sklearn.model_selection import train_test_split\n",
    "from sklearn.neighbors import KNeighborsClassifier\n",
    "from sklearn.metrics import accuracy_score, classification_report\n",
    "\n",
    "# 1. Carregar dataset de exemplo\n",
    "data = load_iris()\n",
    "X = data.data\n",
    "y = data.target\n",
    "\n",
    "# 2. Dividir em treino e teste\n",
    "X_train, X_test, y_train, y_test = train_test_split(X, y, test_size=0.2, random_state=42)\n",
    "\n",
    "# 3. Criar o modelo KNN\n",
    "knn = KNeighborsClassifier(n_neighbors=5, metric='euclidean', weights='distance')\n",
    "\n",
    "# 4. Treinar o modelo\n",
    "knn.fit(X_train, y_train)\n",
    "\n",
    "# 5. Fazer previsões\n",
    "y_pred = knn.predict(X_test)\n",
    "\n",
    "# 6. Avaliar desempenho\n",
    "print(\"Acurácia:\", accuracy_score(y_test, y_pred))\n",
    "print(\"\\nRelatório de Classificação:\\n\", classification_report(y_test, y_pred))\n"
   ]
  }
 ],
 "metadata": {
  "kernelspec": {
   "display_name": "base",
   "language": "python",
   "name": "python3"
  },
  "language_info": {
   "codemirror_mode": {
    "name": "ipython",
    "version": 3
   },
   "file_extension": ".py",
   "mimetype": "text/x-python",
   "name": "python",
   "nbconvert_exporter": "python",
   "pygments_lexer": "ipython3",
   "version": "3.9.13"
  }
 },
 "nbformat": 4,
 "nbformat_minor": 5
}
