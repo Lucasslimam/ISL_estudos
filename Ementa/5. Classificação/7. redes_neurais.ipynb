{
 "cells": [
  {
   "cell_type": "markdown",
   "id": "d2585ebe",
   "metadata": {},
   "source": [
    "# Redes Neurais"
   ]
  },
  {
   "cell_type": "markdown",
   "id": "d6e7d759",
   "metadata": {},
   "source": []
  }
 ],
 "metadata": {
  "kernelspec": {
   "display_name": "base",
   "language": "python",
   "name": "python3"
  },
  "language_info": {
   "name": "python",
   "version": "3.9.13"
  }
 },
 "nbformat": 4,
 "nbformat_minor": 5
}
