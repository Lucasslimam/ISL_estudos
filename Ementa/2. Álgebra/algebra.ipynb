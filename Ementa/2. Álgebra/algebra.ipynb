{
 "cells": [
  {
   "cell_type": "markdown",
   "id": "b82b6a25",
   "metadata": {},
   "source": [
    "# Matrizes e Vetores"
   ]
  },
  {
   "cell_type": "markdown",
   "id": "b67b8d81",
   "metadata": {},
   "source": [
    "**Matriz**: tabela retangular de elementos organizados em linhas e colunas, é denotado por $A_{m \\times n}$ para uma matriz com **$m$** linhas e **$n$** colunas\n",
    "\n",
    "**Vetor**: Caso especial de uma matriz com somente uma coluna ou uma linha, como preferir interpretar"
   ]
  },
  {
   "cell_type": "markdown",
   "id": "44c30000",
   "metadata": {},
   "source": [
    "## Tipos de matrizes\n",
    "\n",
    "- Quadrada ($m=n$)\n",
    "- Diagonal (todos os elementos fora da diagonal principal são nulos)\n",
    "- Identidade (denotado como $I$, quando todos os elementos fora da diagonal principal são nulos e a diagonal é composta só por 1)\n",
    "- Simétrica ($A=A^T$)"
   ]
  },
  {
   "cell_type": "markdown",
   "id": "fdb2d8e6",
   "metadata": {},
   "source": [
    "# Álgebra Matricial"
   ]
  },
  {
   "cell_type": "markdown",
   "id": "1b0ed757",
   "metadata": {},
   "source": [
    "- **Soma e Subtração**: possível somente se as matrizes tem mesma dimensão\n",
    "- **Multiplicação por escalar**: cada elemento é multiplicado pelo escalar, bem simples\n",
    "- **Multiplicação de matrizes**: só é possível multiplicar $A \\times B$ se a qtd de colunas de A é a mesma do número de linhas de B\n",
    "- **Transpor**: as linhas viram colunas\n",
    "- **Inversa ($A^-1$)**: Existe apenas para matrizes quadradas não singulares ($det(A) \\neq 0$)"
   ]
  },
  {
   "cell_type": "markdown",
   "id": "de4cbf90",
   "metadata": {},
   "source": [
    "# Distâncias e Produto Interno"
   ]
  },
  {
   "cell_type": "markdown",
   "id": "e2b7632a",
   "metadata": {},
   "source": [
    "**Produto Interno (escalar)**\n",
    "\n",
    "$u \\cdot v = \\sum_{i=1}^{n} u_i v_i = ||u|| \\cdot ||v|| cos(\\theta)$\n",
    "\n"
   ]
  },
  {
   "cell_type": "code",
   "execution_count": 1,
   "id": "315a09da",
   "metadata": {},
   "outputs": [
    {
     "name": "stdout",
     "output_type": "stream",
     "text": [
      "32\n"
     ]
    }
   ],
   "source": [
    "import numpy as np\n",
    "\n",
    "u = np.array([1, 2, 3])\n",
    "v = np.array([4, 5, 6])\n",
    "\n",
    "produto_interno = np.dot(u, v)  # 1*4 + 2*5 + 3*6 = 32\n",
    "produto_interno = u @ v         # 32\n",
    "print(produto_interno)          # Saída: 32"
   ]
  },
  {
   "cell_type": "markdown",
   "id": "b66b30d1",
   "metadata": {},
   "source": [
    "**Norma (módulo)**\n",
    "\n",
    "$||u|| = \\sqrt{u \\cdot u }$"
   ]
  },
  {
   "cell_type": "code",
   "execution_count": 2,
   "id": "1adc5752",
   "metadata": {},
   "outputs": [
    {
     "name": "stdout",
     "output_type": "stream",
     "text": [
      "5.0\n"
     ]
    }
   ],
   "source": [
    "import numpy as np\n",
    "\n",
    "u = np.array([3, 4])\n",
    "\n",
    "norma = np.linalg.norm(u)  # sqrt(3² + 4²) = 5.0\n",
    "print(norma)               # Saída: 5.0"
   ]
  },
  {
   "cell_type": "markdown",
   "id": "d790dc0b",
   "metadata": {},
   "source": [
    "**Distância Euclidiana**\n",
    "\n",
    "$d(u, v) = ||u - v|| = \\sqrt{\\sum_{i}^{n} (u_i - v_i)^2}$"
   ]
  },
  {
   "cell_type": "code",
   "execution_count": 3,
   "id": "c7783364",
   "metadata": {},
   "outputs": [
    {
     "name": "stdout",
     "output_type": "stream",
     "text": [
      "5.196152422706632\n"
     ]
    }
   ],
   "source": [
    "u = np.array([1, 2, 3])\n",
    "v = np.array([4, 5, 6])\n",
    "\n",
    "distancia = np.linalg.norm(u - v)  # sqrt((1-4)² + (2-5)² + (3-6)²) = sqrt(27) ≈ 5.196\n",
    "print(distancia)                   # Saída: 5.196152422706632"
   ]
  }
 ],
 "metadata": {
  "kernelspec": {
   "display_name": "base",
   "language": "python",
   "name": "python3"
  },
  "language_info": {
   "codemirror_mode": {
    "name": "ipython",
    "version": 3
   },
   "file_extension": ".py",
   "mimetype": "text/x-python",
   "name": "python",
   "nbconvert_exporter": "python",
   "pygments_lexer": "ipython3",
   "version": "3.9.13"
  }
 },
 "nbformat": 4,
 "nbformat_minor": 5
}
