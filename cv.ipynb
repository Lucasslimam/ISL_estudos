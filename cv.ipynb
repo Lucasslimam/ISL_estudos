{
 "cells": [
  {
   "cell_type": "code",
   "execution_count": 1,
   "id": "6fefd9dc",
   "metadata": {},
   "outputs": [],
   "source": [
    "import json"
   ]
  },
  {
   "cell_type": "code",
   "execution_count": 2,
   "id": "cea52573",
   "metadata": {},
   "outputs": [],
   "source": [
    "cv = dict()"
   ]
  },
  {
   "cell_type": "code",
   "execution_count": 3,
   "id": "ac3ba9f7",
   "metadata": {},
   "outputs": [],
   "source": [
    "cv['EXPERIÊNCIA'] = dict()"
   ]
  },
  {
   "cell_type": "code",
   "execution_count": 4,
   "id": "ca54f627",
   "metadata": {},
   "outputs": [],
   "source": [
    "cv['EXPERIÊNCIA']['Analista de Validação de Modelos de Risco II e SME na Comunidade de Inteligência artificial'] = \"\"\"\n",
    "    Realização da validação de modelos matemáticos utilizados no controle de risco de mercado e liquidez da Tesouraria (carteira Bancária e de Negociação);\n",
    "    Foco na detecção e mitigação dos riscos de modelo de: Apreçamento; Estrutura a termo de taxas de juros e superfícies de volatilidade; Métricas de Risco;\n",
    "    Atuação na automação de processos em Python em ambientes On Premisses e AWS;\n",
    "    Validação de modelos com alto rigor matemático e computacional intrínseco ao processo de validação independente;\n",
    "    Criação de aplicações envolvendo IA Generativa a fim de acelerar o processo de validação e automatizar questões de risco operacional.\n",
    "    \"\"\"\n",
    "\n",
    "cv['EXPERIÊNCIA']['Analista de Dados CRM Júnior'] = \"\"\"\n",
    "    Preparação de dados para criação de painéis e geração de insights;\n",
    "    Experiência em automatizações de processos utilizando Hadoop, Alteryx, Python e SAS;\n",
    "    Atuei na criação de processos que se utilizavam de um grande volume dados via AWS para mensurar o sucesso das comunicações disparadas por CRM;\n",
    "    Criação de pipelines de ETL para preparar todos os dados referente a contratações para todos os produtos oferecidos para PF;\n",
    "    Criei pipelines de ETL para enormes conjuntos de dados com registros de público potencial, vistos e cliques por CPF em cada u dos canais de comunicação do banco;\n",
    "    Homologação de bases dos principais canais de comunicação de CRM (Mobile, E-mail, Push, Caixa Eletrônico e SMS).\n",
    "    \"\"\""
   ]
  },
  {
   "cell_type": "code",
   "execution_count": 5,
   "id": "b6f42511",
   "metadata": {},
   "outputs": [],
   "source": [
    "cv[\"EDUCAÇÃO\"] = [\"Bacharelado em Ciência da Computação - Universidade Federal do ABC\", \"Bacharelado em Ciência e Tecnologia - Universidade Federal do ABC\"]"
   ]
  },
  {
   "cell_type": "code",
   "execution_count": 6,
   "id": "123be84f",
   "metadata": {},
   "outputs": [],
   "source": [
    "cv[\"TECNOLOGIAS\"] = \"SAS,Hadoop,AWS Glue,AWS S3,AWS Step Functions,AWS Athena,AWS Firehose,AWS Lambda\".split(',')"
   ]
  },
  {
   "cell_type": "code",
   "execution_count": 7,
   "id": "8a142d2c",
   "metadata": {},
   "outputs": [],
   "source": [
    "cv[\"SOBRE MIM\"] = \"\"\"Sou apaixonado por resolver problemas lógicos, por isso até mesmo fiz uma pesquisa em Teoria dos Grafos e TCC em Ciência de Dados. Amo ver a relação entre Computação e Matemática. Gosto muito de aprender coisas além de computação, como música e novos idiomas.\"\"\""
   ]
  },
  {
   "cell_type": "code",
   "execution_count": 8,
   "id": "320e43a6",
   "metadata": {},
   "outputs": [],
   "source": [
    "cv[\"PREMIAÇÕES\"] = dict()\n",
    "cv[\"PREMIAÇÕES\"][\"PRAD (Programa de Remuneração por Alto Desempenho) - 2024\"] = \"Ganhei esse prêmio quando ainda era Júnior no time de Validação de Modelos, pela minha performance ao validar modelos e implementar automações que contribuíram para a eficiência da equipe.\"\n",
    "cv[\"PREMIAÇÕES\"][\"Mérito - 2025\"] = \"Destaque para a velocidade de entrega juntamente com a qualidade de validações muito relevantes e pela capacidade de inovação com soluções de IA e demais automações.\""
   ]
  },
  {
   "cell_type": "code",
   "execution_count": 9,
   "id": "247104c7",
   "metadata": {},
   "outputs": [],
   "source": [
    "cv[\"IDIOMAS\"] = [\"Alemão - Intermediário\", \"Inglês - Proficiente\"]"
   ]
  },
  {
   "cell_type": "code",
   "execution_count": 10,
   "id": "8a69e1fe",
   "metadata": {},
   "outputs": [],
   "source": [
    "cv[\"LINGUAGENS\"] = \"Python, Java, SQL, Terraform, C, C++, C#, Julia, HQL\".split(',')"
   ]
  },
  {
   "cell_type": "code",
   "execution_count": 11,
   "id": "f7f35086",
   "metadata": {},
   "outputs": [],
   "source": [
    "cv[\"EXTRACURRICULARES\"] = {\n",
    "    \"Bolsista CNPq em Teoria dos Grafos\": \"Universidade federal do ABC\",\n",
    "    \"MLOps: Machine Learning e APIs\": \"Alura\",\n",
    "    \"Applied Machine Learning in Python\": \"Universidade de Michigan\",\n",
    "    \"Contribuição em código Open Source\": \"LightGraphs - Julia\",\n",
    "    \"Introduction to Data Science in Python\": \"Universidade de Michigan\"\n",
    "}"
   ]
  },
  {
   "cell_type": "code",
   "execution_count": 12,
   "id": "aa804716",
   "metadata": {},
   "outputs": [],
   "source": [
    "with open('curriculo.json', 'w', encoding='utf-8') as arquivo:\n",
    "    json.dump(cv, arquivo, ensure_ascii=False, indent=4)"
   ]
  },
  {
   "cell_type": "code",
   "execution_count": 13,
   "id": "59af80f7",
   "metadata": {},
   "outputs": [
    {
     "data": {
      "text/plain": [
       "dict_keys(['EXPERIÊNCIA', 'EDUCAÇÃO', 'TECNOLOGIAS', 'SOBRE MIM', 'PREMIAÇÕES', 'IDIOMAS', 'LINGUAGENS', 'EXTRACURRICULARES'])"
      ]
     },
     "execution_count": 13,
     "metadata": {},
     "output_type": "execute_result"
    }
   ],
   "source": [
    "cv.keys()"
   ]
  },
  {
   "cell_type": "code",
   "execution_count": null,
   "id": "8bf17e6f",
   "metadata": {},
   "outputs": [],
   "source": []
  }
 ],
 "metadata": {
  "kernelspec": {
   "display_name": "base",
   "language": "python",
   "name": "python3"
  },
  "language_info": {
   "codemirror_mode": {
    "name": "ipython",
    "version": 3
   },
   "file_extension": ".py",
   "mimetype": "text/x-python",
   "name": "python",
   "nbconvert_exporter": "python",
   "pygments_lexer": "ipython3",
   "version": "3.9.13"
  }
 },
 "nbformat": 4,
 "nbformat_minor": 5
}
